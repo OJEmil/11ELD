{
 "cells": [
  {
   "cell_type": "code",
   "execution_count": 9,
   "metadata": {},
   "outputs": [
    {
     "name": "stdout",
     "output_type": "stream",
     "text": [
      "Hello! What is your name? has\n",
      "Ok, has Here is the first question\n",
      "What would you like to call me? Gay\n",
      "So here is a realy easy question\n",
      "Do you want a reward? No\n",
      "Hello has\n",
      "has, I Am Gay, I am thinking of a whole number between 1 and 500. Can you guess what it is?\n",
      "Take a guess \n"
     ]
    },
    {
     "ename": "ValueError",
     "evalue": "invalid literal for int() with base 10: ''",
     "output_type": "error",
     "traceback": [
      "\u001b[1;31m---------------------------------------------------------------------------\u001b[0m",
      "\u001b[1;31mValueError\u001b[0m                                Traceback (most recent call last)",
      "\u001b[1;32m<ipython-input-9-d86ac0f34732>\u001b[0m in \u001b[0;36m<module>\u001b[1;34m\u001b[0m\n\u001b[0;32m     19\u001b[0m \u001b[1;32mwhile\u001b[0m \u001b[0mnumberofGuesses\u001b[0m \u001b[1;33m<\u001b[0m \u001b[1;36m20\u001b[0m\u001b[1;33m:\u001b[0m\u001b[1;33m\u001b[0m\u001b[1;33m\u001b[0m\u001b[0m\n\u001b[0;32m     20\u001b[0m   \u001b[0mguess\u001b[0m \u001b[1;33m=\u001b[0m \u001b[0minput\u001b[0m\u001b[1;33m(\u001b[0m\u001b[1;34m\"Take a guess \"\u001b[0m\u001b[1;33m)\u001b[0m\u001b[1;33m\u001b[0m\u001b[1;33m\u001b[0m\u001b[0m\n\u001b[1;32m---> 21\u001b[1;33m   \u001b[0mguess\u001b[0m \u001b[1;33m=\u001b[0m \u001b[0mint\u001b[0m\u001b[1;33m(\u001b[0m\u001b[0mguess\u001b[0m\u001b[1;33m)\u001b[0m\u001b[1;33m\u001b[0m\u001b[1;33m\u001b[0m\u001b[0m\n\u001b[0m\u001b[0;32m     22\u001b[0m \u001b[1;33m\u001b[0m\u001b[0m\n\u001b[0;32m     23\u001b[0m   \u001b[0mnumberofGuesses\u001b[0m \u001b[1;33m=\u001b[0m \u001b[0mnumberofGuesses\u001b[0m \u001b[1;33m+\u001b[0m \u001b[1;36m1\u001b[0m\u001b[1;33m;\u001b[0m\u001b[1;33m\u001b[0m\u001b[1;33m\u001b[0m\u001b[0m\n",
      "\u001b[1;31mValueError\u001b[0m: invalid literal for int() with base 10: ''"
     ]
    }
   ],
   "source": [
    "import random\n",
    "\n",
    "numberofGuesses = 0\n",
    "number = random.randint(1,500)\n",
    "\n",
    "name = input(\"Hello! What is your name? \") \n",
    "#Hva heter du?\n",
    "print (\"Ok, \" + name + \" Here is the first question\")\n",
    "bot_name = input(\"What would you like to call me? \") \n",
    "#Give the program a name\n",
    "\n",
    "print (\"So here is a realy easy question\")\n",
    "answer = input(\"Do you want a reward? \")\n",
    "\n",
    "\n",
    "print (\"Hello \" + name)\n",
    "print(name + \", I am \" + bot_name + \", I am thinking of a whole number between 1 and 500. Can you guess what it is?\")\n",
    "\n",
    "while numberofGuesses < 20:\n",
    "  guess = input(\"Take a guess \")\n",
    "  guess = int(guess)\n",
    "\n",
    "  numberofGuesses = numberofGuesses + 1;\n",
    "  guessesLeft = 20 - numberofGuesses;\n",
    "\n",
    "  if guess < number:\n",
    "    guessesLeft=str(guessesLeft)\n",
    "    print(\"Your guess is lower than the number! You have \" + guessesLeft + \" guesses left use them well\") \n",
    "    #The number you guessed is lower than the number\n",
    "\n",
    "  if guess > number:\n",
    "    guessesLeft=str(guessesLeft)\n",
    "    print(\"Your guess is too high! You have \" + guessesLeft + \" guesses left use them well\") \n",
    "    #The number you guessed it too high\n",
    "\n",
    "  if guess==number:\n",
    "    break\n",
    "\n",
    "if guess==number:\n",
    "  numberofGuesses=str(numberofGuesses)\n",
    "  print(\"Good job! You guessed the number in \" + numberofGuesses + \" tries :) here is your\")\n",
    "  print (\"reward: https://www.youtube.com/watch?v=dQw4w9WgXcQ \")\n",
    "  print(\"If you want to play again press *run again* or *run*\")\n",
    "  print (\"Hope i see you again \"+ bot_name + \" out\")\n",
    "\n",
    "if guess!=number:\n",
    "  number=str(number)\n",
    "  print(\"Sorry. The number I was thinking of was \" + number + \" :) Hey \" + name + \" before you go, you can play again if you want. Just click the *run again* button :) \")\n"
   ]
  },
  {
   "cell_type": "code",
   "execution_count": null,
   "metadata": {},
   "outputs": [],
   "source": []
  }
 ],
 "metadata": {
  "kernelspec": {
   "display_name": "Python 3",
   "language": "python",
   "name": "python3"
  },
  "language_info": {
   "codemirror_mode": {
    "name": "ipython",
    "version": 3
   },
   "file_extension": ".py",
   "mimetype": "text/x-python",
   "name": "python",
   "nbconvert_exporter": "python",
   "pygments_lexer": "ipython3",
   "version": "3.7.4"
  }
 },
 "nbformat": 4,
 "nbformat_minor": 2
}
